{
 "cells": [
  {
   "cell_type": "markdown",
   "id": "8c70b6d5",
   "metadata": {},
   "source": [
    "# 🧠 Spiking Neural Network Decoder\n",
    "This notebook simulates neuron spike activity using the **Leaky Integrate-and-Fire (LIF)** model and decodes behavior from neural spike rates using machine learning.\n",
    "\n",
    "---\n",
    "## 📌 Objectives\n",
    "- Simulate biologically realistic spikes with the LIF model\n",
    "- Estimate firing rates from spike trains\n",
    "- Classify behavior using firing rate patterns and ML models"
   ]
  },
  {
   "cell_type": "code",
   "execution_count": null,
   "id": "9e4b0eaf",
   "metadata": {},
   "outputs": [],
   "source": [
    "import numpy as np\n",
    "import matplotlib.pyplot as plt\n",
    "import pandas as pd\n",
    "import seaborn as sns\n",
    "from sklearn.model_selection import train_test_split\n",
    "from sklearn.ensemble import RandomForestClassifier, AdaBoostClassifier\n",
    "from sklearn.svm import SVC\n",
    "from sklearn.discriminant_analysis import LinearDiscriminantAnalysis\n",
    "from sklearn.metrics import confusion_matrix, accuracy_score, precision_score, recall_score, f1_score"
   ]
  },
  {
   "cell_type": "markdown",
   "id": "f5fd8a49",
   "metadata": {},
   "source": [
    "## 🔬 Step 1: Simulate Spikes using Leaky Integrate-and-Fire Model\n",
    "The **Leaky Integrate-and-Fire (LIF)** model simulates a neuron's membrane potential over time. When the potential exceeds a threshold, a spike is triggered and the potential resets. An adaptive threshold models biological behavior more closely."
   ]
  },
  {
   "cell_type": "code",
   "execution_count": null,
   "id": "de2ad408",
   "metadata": {},
   "outputs": [],
   "source": [
    "\n",
    "def LeakyIF_3(input_currents=None, duration=0.2, dt=0.0001):\n",
    "    tau = 0.020\n",
    "    R = 3e7\n",
    "    U_rest = -0.07\n",
    "    theta = -0.030\n",
    "    spikeVolt = 0.1\n",
    "    backgroundI = 3e-9\n",
    "    tau_adapt = 0.3\n",
    "    increase_threshold = 0.012\n",
    "\n",
    "    if input_currents is None:\n",
    "        input_currents = {}\n",
    "        U_0 = 0.3\n",
    "        I_0 = U_0 / R\n",
    "        psc = np.arange(0, duration, dt)\n",
    "    else:\n",
    "        U_0 = input_currents.get('U_0', 0.3)\n",
    "        I_0 = U_0 / R\n",
    "        psc = input_currents.get('psc', np.arange(0, duration, dt))\n",
    "\n",
    "    ipsc = input_currents.get('ipsc', [])\n",
    "    n_pcs = len(psc)\n",
    "    U = np.zeros(n_pcs)\n",
    "    spikes = np.zeros(n_pcs)\n",
    "    threshold = np.zeros(n_pcs)\n",
    "    U[0] = U_rest\n",
    "    threshold[0] = theta\n",
    "\n",
    "    for i in range(1, n_pcs):\n",
    "        I_t = backgroundI + (I_0 if i in ipsc else 0)\n",
    "        dU = (-(U[i-1] - U_rest) + R * I_t) / tau * dt\n",
    "        U[i] = U[i-1] + dU\n",
    "        threshold[i] = threshold[i-1] + ((theta - threshold[i-1]) / tau_adapt) * dt\n",
    "        if U[i] >= threshold[i]:\n",
    "            spikes[i] = 1\n",
    "            U[i] = U_rest\n",
    "            threshold[i] += increase_threshold\n",
    "    return psc, U, spikes, threshold\n",
    "\n",
    "# Generate and Plot\n",
    "psc, U, spikes, threshold = LeakyIF_3()\n",
    "plt.figure(figsize=(10, 4))\n",
    "plt.plot(psc, U, label='Membrane Potential')\n",
    "plt.plot(psc, threshold, 'r--', label='Threshold')\n",
    "plt.title(\"Simulated Spike Train (LIF Neuron)\")\n",
    "plt.xlabel(\"Time (s)\")\n",
    "plt.ylabel(\"Potential (V)\")\n",
    "plt.legend()\n",
    "plt.show()\n"
   ]
  },
  {
   "cell_type": "markdown",
   "id": "2bb24a22",
   "metadata": {},
   "source": [
    "## 📊 Step 2: Load and Prepare Dataset\n",
    "We simulate a dataset mimicking real-world neuron firing rates. Each row is one trial and each column is a neuron's firing rate. The label represents the behavior performed."
   ]
  },
  {
   "cell_type": "code",
   "execution_count": null,
   "id": "ee249ed2",
   "metadata": {},
   "outputs": [],
   "source": [
    "\n",
    "np.random.seed(42)\n",
    "X = np.random.rand(120, 6)  # 6 neurons\n",
    "y = np.random.choice([1, 2, 3, 4], size=120)\n",
    "\n",
    "df = pd.DataFrame(X, columns=[f'Neuron_{i+1}' for i in range(6)])\n",
    "df['Behavior'] = y\n",
    "df.head()\n"
   ]
  },
  {
   "cell_type": "markdown",
   "id": "d532b3a2",
   "metadata": {},
   "source": [
    "## 🤖 Step 3: Train Machine Learning Classifiers\n",
    "We use multiple models to predict behavior based on neuron activity. Models include:\n",
    "- Support Vector Machine (SVM)\n",
    "- Random Forest\n",
    "- Linear Discriminant Analysis (LDA)\n",
    "- AdaBoost\n",
    "\n",
    "We measure each model's accuracy on a held-out test set."
   ]
  },
  {
   "cell_type": "code",
   "execution_count": null,
   "id": "81fba8b8",
   "metadata": {},
   "outputs": [],
   "source": [
    "\n",
    "X = df.drop('Behavior', axis=1)\n",
    "y = df['Behavior']\n",
    "X_train, X_test, y_train, y_test = train_test_split(X, y, test_size=0.2, stratify=y, random_state=42)\n",
    "\n",
    "models = {\n",
    "    'SVM': SVC(),\n",
    "    'Random Forest': RandomForestClassifier(),\n",
    "    'LDA': LinearDiscriminantAnalysis(),\n",
    "    'AdaBoost': AdaBoostClassifier()\n",
    "}\n",
    "\n",
    "results = {}\n",
    "for name, model in models.items():\n",
    "    model.fit(X_train, y_train)\n",
    "    y_pred = model.predict(X_test)\n",
    "    acc = accuracy_score(y_test, y_pred)\n",
    "    results[name] = acc\n",
    "    print(f'{name} Accuracy: {acc:.2f}')\n"
   ]
  },
  {
   "cell_type": "markdown",
   "id": "cd22a135",
   "metadata": {},
   "source": [
    "## 📉 Step 4: Evaluate Model Performance\n",
    "A **confusion matrix** shows how well the classifier performed across different behavior categories. Ideally, predictions match true labels perfectly (diagonal matrix)."
   ]
  },
  {
   "cell_type": "code",
   "execution_count": null,
   "id": "aad3d806",
   "metadata": {},
   "outputs": [],
   "source": [
    "\n",
    "best_model = RandomForestClassifier().fit(X_train, y_train)\n",
    "y_pred = best_model.predict(X_test)\n",
    "\n",
    "cm = confusion_matrix(y_test, y_pred, labels=[1, 2, 3, 4])\n",
    "sns.heatmap(pd.DataFrame(cm, index=[1,2,3,4], columns=[1,2,3,4]), annot=True, fmt=\"d\", cmap=\"Blues\")\n",
    "plt.title(\"Confusion Matrix - Random Forest\")\n",
    "plt.xlabel(\"Predicted\")\n",
    "plt.ylabel(\"True\")\n",
    "plt.show()\n"
   ]
  }
 ],
 "metadata": {
  "kernelspec": {
   "display_name": "Python 3 (ipykernel)",
   "language": "python",
   "name": "python3"
  },
  "language_info": {
   "codemirror_mode": {
    "name": "ipython",
    "version": 3
   },
   "file_extension": ".py",
   "mimetype": "text/x-python",
   "name": "python",
   "nbconvert_exporter": "python",
   "pygments_lexer": "ipython3",
   "version": "3.9.13"
  }
 },
 "nbformat": 4,
 "nbformat_minor": 5
}
